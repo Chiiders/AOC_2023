{
 "cells": [
  {
   "cell_type": "markdown",
   "metadata": {},
   "source": [
    "--- Day 1: Trebuchet?! ---\n",
    "Something is wrong with global snow production, and you've been selected to take a look. The Elves have even given you a map; on it, they've used stars to mark the top fifty locations that are likely to be having problems.\n",
    "\n",
    "You've been doing this long enough to know that to restore snow operations, you need to check all fifty stars by December 25th.\n",
    "\n",
    "Collect stars by solving puzzles. Two puzzles will be made available on each day in the Advent calendar; the second puzzle is unlocked when you complete the first. Each puzzle grants one star. Good luck!\n",
    "\n",
    "You try to ask why they can't just use a weather machine (\"not powerful enough\") and where they're even sending you (\"the sky\") and why your map looks mostly blank (\"you sure ask a lot of questions\") and hang on did you just say the sky (\"of course, where do you think snow comes from\") when you realize that the Elves are already loading you into a trebuchet (\"please hold still, we need to strap you in\").\n",
    "\n",
    "As they're making the final adjustments, they discover that their calibration document (your puzzle input) has been amended by a very young Elf who was apparently just excited to show off her art skills. Consequently, the Elves are having trouble reading the values on the document.\n",
    "\n",
    "The newly-improved calibration document consists of lines of text; each line originally contained a specific calibration value that the Elves now need to recover. On each line, the calibration value can be found by combining the first digit and the last digit (in that order) to form a single two-digit number.\n",
    "\n",
    "For example:\n",
    "\n",
    "1abc2\n",
    "pqr3stu8vwx\n",
    "a1b2c3d4e5f\n",
    "treb7uchet\n",
    "In this example, the calibration values of these four lines are 12, 38, 15, and 77. Adding these together produces 142.\n",
    "\n",
    "Consider your entire calibration document. What is the sum of all of the calibration values?"
   ]
  },
  {
   "cell_type": "code",
   "execution_count": 1,
   "metadata": {},
   "outputs": [],
   "source": [
    "import pandas as pd\n",
    "n = pd.DataFrame()\n",
    "import re"
   ]
  },
  {
   "cell_type": "code",
   "execution_count": 2,
   "metadata": {},
   "outputs": [],
   "source": [
    "input = r'C:\\Python\\Advent of code\\2023\\1\\input.txt'"
   ]
  },
  {
   "cell_type": "code",
   "execution_count": 3,
   "metadata": {},
   "outputs": [],
   "source": [
    "file = open(input,'r')\n",
    "lines = file.readlines()"
   ]
  },
  {
   "cell_type": "code",
   "execution_count": 4,
   "metadata": {},
   "outputs": [],
   "source": [
    "for line in lines:\n",
    "    #print(line)\n",
    "    num = \"\"\n",
    "    for c in line:\n",
    "        if c.isdigit():\n",
    "            num = num+c\n",
    "    num = num[0]+ num[-1]\n",
    "    #print(f'len: {len(num)}')\n",
    "    #print(num)\n",
    "    if len(num) == 2:\n",
    "        n= pd.concat([n, pd.DataFrame([num])],ignore_index=True)\n",
    "    #print(num)"
   ]
  },
  {
   "cell_type": "code",
   "execution_count": 5,
   "metadata": {},
   "outputs": [
    {
     "name": "stdout",
     "output_type": "stream",
     "text": [
      "<class 'pandas.core.frame.DataFrame'>\n",
      "RangeIndex: 1000 entries, 0 to 999\n",
      "Data columns (total 1 columns):\n",
      " #   Column  Non-Null Count  Dtype \n",
      "---  ------  --------------  ----- \n",
      " 0   0       1000 non-null   object\n",
      "dtypes: object(1)\n",
      "memory usage: 7.9+ KB\n"
     ]
    }
   ],
   "source": [
    "n.info()\n",
    "n[0] = n[0].astype(int)"
   ]
  },
  {
   "cell_type": "code",
   "execution_count": 6,
   "metadata": {},
   "outputs": [
    {
     "data": {
      "text/plain": [
       "54951"
      ]
     },
     "execution_count": 6,
     "metadata": {},
     "output_type": "execute_result"
    }
   ],
   "source": [
    "n[0].sum()"
   ]
  },
  {
   "cell_type": "markdown",
   "metadata": {},
   "source": [
    "Part 1 compleate"
   ]
  },
  {
   "cell_type": "markdown",
   "metadata": {},
   "source": [
    "--- Part Two ---\n",
    "Your calculation isn't quite right. It looks like some of the digits are actually spelled out with letters: one, two, three, four, five, six, seven, eight, and nine also count as valid \"digits\".\n",
    "\n",
    "Equipped with this new information, you now need to find the real first and last digit on each line. For example:\n",
    "\n",
    "two1nine\n",
    "eightwothree\n",
    "abcone2threexyz\n",
    "xtwone3four\n",
    "4nineeightseven2\n",
    "zoneight234\n",
    "7pqrstsixteen\n",
    "In this example, the calibration values are 29, 83, 13, 24, 42, 14, and 76. Adding these together produces 281.\n",
    "\n",
    "What is the sum of all of the calibration values?"
   ]
  },
  {
   "cell_type": "code",
   "execution_count": 7,
   "metadata": {},
   "outputs": [],
   "source": [
    "words_to_numbers = {\n",
    " 'one': '1', \n",
    " 'two': '2', \n",
    " 'three': '3', \n",
    " 'four': '4', \n",
    " 'five': '5',\n",
    " 'six': '6', \n",
    " 'seven': '7', \n",
    " 'eight': '8', \n",
    " 'nine': '9', \n",
    " 'ten': '10',\n",
    " 'eleven': '11', \n",
    " 'twelve': '12', \n",
    " 'thirteen': '13', \n",
    " 'fourteen': '14', \n",
    " 'fifteen': '15',\n",
    " 'sixteen': '16', \n",
    " 'seventeen': '17', \n",
    " 'eighteen': '18', \n",
    " 'nineteen': '19', \n",
    " 'twenty': '20',\n",
    " 'twentyone': '21', \n",
    " 'twentytwo': '22', \n",
    " 'twentythree': '23', \n",
    " 'twentyfour': '24', \n",
    " 'twentyfive': '25',\n",
    " 'twentysix': '26', \n",
    " 'twentyseven': '27', \n",
    " 'twentyeight': '28', \n",
    " 'twentynine': '29', \n",
    " 'thirty': '30',\n",
    " 'thirtyone': '31', \n",
    " 'thirtytwo': '32', \n",
    " 'thirtythree': '33', \n",
    " 'thirtyfour': '34', \n",
    " 'thirtyfive': '35',\n",
    " 'thirtysix': '36', \n",
    " 'thirtyseven': '37', \n",
    " 'thirtyeight': '38', \n",
    " 'thirtynine': '39', \n",
    " 'forty': '40',\n",
    " 'fortyone': '41', \n",
    " 'fortytwo': '42', \n",
    " 'fortythree': '43', \n",
    " 'fortyfour': '44', \n",
    " 'fortyfive': '45',\n",
    " 'fortysix': '46', \n",
    " 'fortyseven': '47', \n",
    " 'fortyeight': '48', \n",
    " 'fortynine': '49', \n",
    " 'fifty': '50',\n",
    " 'fiftyone': '51', \n",
    " 'fiftytwo': '52', \n",
    " 'fiftythree': '53', \n",
    " 'fiftyfour': '54', \n",
    " 'fiftyfive': '55',\n",
    " 'fiftysix': '56', \n",
    " 'fiftyseven': '57', \n",
    " 'fiftyeight': '58', \n",
    " 'fiftynine': '59', \n",
    " 'sixty': '60',\n",
    " 'sixtyone': '61', \n",
    " 'sixtytwo': '62', \n",
    " 'sixtythree': '63', \n",
    " 'sixtyfour': '64', \n",
    " 'sixtyfive': '65',\n",
    " 'sixtysix': '66', \n",
    " 'sixtyseven': '67', \n",
    " 'sixtyeight': '68', \n",
    " 'sixtynine': '69', \n",
    " 'seventy': '70',\n",
    " 'seventyone': '71', \n",
    " 'seventytwo': '72', \n",
    " 'seventythree': '73', \n",
    " 'seventyfour': '74', \n",
    " 'seventyfive': '75',\n",
    " 'seventysix': '76', \n",
    " 'seventyseven': '77', \n",
    " 'seventyeight': '78', \n",
    " 'seventynine': '79', \n",
    " 'eighty': '80',\n",
    " 'eightyone': '81', \n",
    " 'eightytwo': '82', \n",
    " 'eightythree': '83', \n",
    " 'eightyfour': '84', \n",
    " 'eightyfive': '85',\n",
    " 'eightysix': '86', \n",
    " 'eightyseven': '87', \n",
    " 'eightyeight': '88', \n",
    " 'eightynine': '89', \n",
    " 'ninety': '90',\n",
    " 'ninetyone': '91', \n",
    " 'ninetytwo': '92', \n",
    " 'ninetythree': '93', \n",
    " 'ninetyfour': '94', \n",
    " 'ninetyfive': '95',\n",
    " 'ninetysix': '96', \n",
    " 'ninetyseven': '97', \n",
    " 'ninetyeight': '98', \n",
    " 'ninetynine': '99', \n",
    " 'onehundred': '100'\n",
    "}"
   ]
  },
  {
   "cell_type": "code",
   "execution_count": 8,
   "metadata": {},
   "outputs": [],
   "source": [
    "def convert_to_numbers(s):\n",
    "    pattern = re.compile(r'\\b(' + '|'.join(words_to_numbers.keys()) + r')\\b')\n",
    "    return re.sub(pattern, lambda x: words_to_numbers[x.group()], s)"
   ]
  },
  {
   "cell_type": "code",
   "execution_count": 9,
   "metadata": {},
   "outputs": [],
   "source": [
    "def replacer(s, newstring, index, nofail=False):\n",
    "    # raise an error if index is outside of the string\n",
    "    if not nofail and index not in range(len(s)):\n",
    "        raise ValueError(\"index outside given string\")\n",
    "\n",
    "    # if not erroring, but the index is still not in the correct range..\n",
    "    if index < 0:  # add it to the beginning\n",
    "        return newstring + s\n",
    "    if index > len(s):  # add it to the end\n",
    "        return s + newstring\n",
    "\n",
    "    # insert the new string between \"slices\" of the original\n",
    "    return s[:index] + newstring + s[index + 1:]"
   ]
  },
  {
   "cell_type": "code",
   "execution_count": 10,
   "metadata": {},
   "outputs": [],
   "source": [
    "n2 = pd.DataFrame(columns=['num','tweaked','line'])"
   ]
  },
  {
   "cell_type": "code",
   "execution_count": 11,
   "metadata": {},
   "outputs": [
    {
     "data": {
      "text/html": [
       "<div>\n",
       "<style scoped>\n",
       "    .dataframe tbody tr th:only-of-type {\n",
       "        vertical-align: middle;\n",
       "    }\n",
       "\n",
       "    .dataframe tbody tr th {\n",
       "        vertical-align: top;\n",
       "    }\n",
       "\n",
       "    .dataframe thead th {\n",
       "        text-align: right;\n",
       "    }\n",
       "</style>\n",
       "<table border=\"1\" class=\"dataframe\">\n",
       "  <thead>\n",
       "    <tr style=\"text-align: right;\">\n",
       "      <th></th>\n",
       "      <th>num</th>\n",
       "      <th>tweaked</th>\n",
       "      <th>line</th>\n",
       "    </tr>\n",
       "  </thead>\n",
       "  <tbody>\n",
       "  </tbody>\n",
       "</table>\n",
       "</div>"
      ],
      "text/plain": [
       "Empty DataFrame\n",
       "Columns: [num, tweaked, line]\n",
       "Index: []"
      ]
     },
     "execution_count": 11,
     "metadata": {},
     "output_type": "execute_result"
    }
   ],
   "source": [
    "n2.head()"
   ]
  },
  {
   "cell_type": "code",
   "execution_count": 12,
   "metadata": {},
   "outputs": [],
   "source": [
    "for line in lines:\n",
    "    line_len = len(line)\n",
    "    #print('#############################')\n",
    "    #print(f'Orignial: {line}')\n",
    "    og_line = line\n",
    "    for word,num in words_to_numbers.items():\n",
    "        #print(f'word: {word}')\n",
    "        word_len = len(word)\n",
    "        for n in line:\n",
    "            if line.find(word) != -1:\n",
    "                x = line.find(word)\n",
    "                #print(x)\n",
    "                xx = len(word)\n",
    "                numn = sum((x,xx))-1\n",
    "                #line = replacer(line,num,numn)\n",
    "                line = line[:numn] + num + line[numn:]\n",
    "                linx = num\n",
    "                #print(f'changed:{line}')\n",
    "            \n",
    "        #print(word)\n",
    "    #print(f'tweaked: {line}')\n",
    "    #print(f'linex: {linx}')\n",
    "    #print(convert_to_numbers(line))\n",
    "    num = \"\"\n",
    "    for c in line:\n",
    "        if c.isdigit():\n",
    "            num = num+c\n",
    "    num = num[0]+ num[-1]\n",
    "    #print(f'len: {len(num)}')\n",
    "    #print(num)\n",
    "   # if len(num) == 2:\n",
    "   \n",
    "    n2= pd.concat([n2, pd.DataFrame([[num,line, og_line,]],columns=['num','tweaked','line'])],ignore_index=True)\n",
    "    #print(num)"
   ]
  },
  {
   "cell_type": "code",
   "execution_count": 13,
   "metadata": {},
   "outputs": [
    {
     "name": "stdout",
     "output_type": "stream",
     "text": [
      "<class 'pandas.core.frame.DataFrame'>\n",
      "RangeIndex: 1000 entries, 0 to 999\n",
      "Data columns (total 3 columns):\n",
      " #   Column   Non-Null Count  Dtype \n",
      "---  ------   --------------  ----- \n",
      " 0   num      1000 non-null   object\n",
      " 1   tweaked  1000 non-null   object\n",
      " 2   line     1000 non-null   object\n",
      "dtypes: object(3)\n",
      "memory usage: 23.6+ KB\n"
     ]
    }
   ],
   "source": [
    "n2.info()\n",
    "n2['num'] = n2['num'].astype(int)"
   ]
  },
  {
   "cell_type": "code",
   "execution_count": 14,
   "metadata": {},
   "outputs": [
    {
     "data": {
      "text/plain": [
       "55218"
      ]
     },
     "execution_count": 14,
     "metadata": {},
     "output_type": "execute_result"
    }
   ],
   "source": [
    "n2['num'].sum()"
   ]
  },
  {
   "cell_type": "markdown",
   "metadata": {},
   "source": [
    "54540\n",
    "55166\n",
    "55230\n",
    "55218"
   ]
  }
 ],
 "metadata": {
  "kernelspec": {
   "display_name": "Python 3",
   "language": "python",
   "name": "python3"
  },
  "language_info": {
   "codemirror_mode": {
    "name": "ipython",
    "version": 3
   },
   "file_extension": ".py",
   "mimetype": "text/x-python",
   "name": "python",
   "nbconvert_exporter": "python",
   "pygments_lexer": "ipython3",
   "version": "3.11.5"
  }
 },
 "nbformat": 4,
 "nbformat_minor": 2
}
